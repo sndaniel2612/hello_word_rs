{
  "nbformat": 4,
  "nbformat_minor": 0,
  "metadata": {
    "colab": {
      "name": "teste.ipynb",
      "provenance": [],
      "mount_file_id": "15uvI7FCezWkdycJOkOxEOqYZCFJGFuqg",
      "authorship_tag": "ABX9TyOEIU03CX/O29CzAXgHCtu/",
      "include_colab_link": true
    },
    "kernelspec": {
      "name": "python3",
      "display_name": "Python 3"
    },
    "language_info": {
      "name": "python"
    }
  },
  "cells": [
    {
      "cell_type": "markdown",
      "metadata": {
        "id": "view-in-github",
        "colab_type": "text"
      },
      "source": [
        "<a href=\"https://colab.research.google.com/github/sndaniel2612/hello_word_rs/blob/main/teste.ipynb\" target=\"_parent\"><img src=\"https://colab.research.google.com/assets/colab-badge.svg\" alt=\"Open In Colab\"/></a>"
      ]
    },
    {
      "cell_type": "code",
      "metadata": {
        "id": "cI4Ufv48p6Pq"
      },
      "source": [
        "import os\n",
        "import fnmatch\n",
        "import pandas as pd\n",
        "\n",
        "\n",
        "caminho = \"/content/drive/Shareddrives/CONSULTORIA/PROJETOS/zMed/datasul/dta\"\n",
        "pasta = fnmatch.filter(os.listdir(caminho),'*.dbf')\n",
        "files  = len(pasta)\n",
        "\n",
        "print (pasta)\n",
        "\n",
        "for x in pasta:\n",
        "    print(x)\n"
      ],
      "execution_count": null,
      "outputs": []
    }
  ]
}